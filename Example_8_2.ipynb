{
  "cells": [
    {
      "cell_type": "markdown",
      "metadata": {
        "id": "view-in-github",
        "colab_type": "text"
      },
      "source": [
        "<a href=\"https://colab.research.google.com/github/CQUPTLei/yt_dlp_python_GUI/blob/master/Example_8_2.ipynb\" target=\"_parent\"><img src=\"https://colab.research.google.com/assets/colab-badge.svg\" alt=\"Open In Colab\"/></a>"
      ]
    },
    {
      "cell_type": "markdown",
      "metadata": {
        "id": "RdcuLJRjhFDJ"
      },
      "source": [
        "先挂载你的Google硬盘，（相当于把U盘查到电脑上）<br>\n",
        "安装colab后，谷歌硬盘会自动创建一个名为Colab Notebooks的文件夹<br>\n",
        "你新建的.ipnb文件默认保存位置就是那里。<br>\n",
        "只有挂载你的Google硬盘，才能修改文件位置，或者在代码里面引用你硬盘下的一些资源。"
      ]
    },
    {
      "cell_type": "code",
      "execution_count": null,
      "metadata": {
        "colab": {
          "base_uri": "https://localhost:8080/"
        },
        "id": "N0fWvJHRf8nj",
        "outputId": "3b687afe-414c-45c0-98de-becdf2640825"
      },
      "outputs": [
        {
          "name": "stdout",
          "output_type": "stream",
          "text": [
            "Mounted at /content/gdrive\n"
          ]
        }
      ],
      "source": [
        "from google.colab import drive\n",
        "drive.mount('/content/gdrive')"
      ]
    },
    {
      "cell_type": "markdown",
      "metadata": {
        "id": "YU7hjT7Who6I"
      },
      "source": [
        "挂载你的Google硬盘之后，就可以移动你的文件了，当然你到Google硬盘中手动移动也可以<br>\n",
        "点击左上角的文件--移动，选择相应的文件夹，文件保存位置就修改了。\n",
        "<hr>"
      ]
    },
    {
      "cell_type": "markdown",
      "metadata": {
        "id": "2AQ9GT2NcDEk"
      },
      "source": [
        "### <font color=red>下面是你的题目</font>\n",
        "**SciPy**的统计模块是scipy.stats，其中有一个类是连续分布的实现，一个类是离散分布的实现。此外，该模块中还有很多用于统计检验的函数。[这篇文章有详细讲解](https://blog.csdn.net/qq_36056219/article/details/113153425)，[这篇文章有也不错](https://blog.csdn.net/robert_chen1988/article/details/80939884?ops_request_misc=%257B%2522request%255Fid%2522%253A%2522166816654816782395336181%2522%252C%2522scm%2522%253A%252220140713.130102334..%2522%257D&request_id=166816654816782395336181&biz_id=0&utm_medium=distribute.pc_search_result.none-task-blog-2~all~sobaiduend~default-2-80939884-null-null.142^v63^control,201^v3^control_2,213^v2^t3_esquery_v3&utm_term=scipy.stats%20skew&spm=1018.2226.3001.4187)。\n",
        "\n",
        "\n",
        "**numpy**是一个由多维数组对象和用于处理数组的例程集合组成的库，[可以看这篇文章](https://blog.csdn.net/a373595475/article/details/79580734?ops_request_misc=%257B%2522request%255Fid%2522%253A%2522166799554416800184136683%2522%252C%2522scm%2522%253A%252220140713.130102334..%2522%257D&request_id=166799554416800184136683&biz_id=0&utm_medium=distribute.pc_search_result.none-task-blog-2~all~top_positive~default-1-79580734-null-null.142^v63^control,201^v3^control_2,213^v2^t3_esquery_v3&utm_term=numpy&spm=1018.2226.3001.4187)。\n",
        "\n",
        "\n",
        "**pandas**是Python 处理表格数据最好的库之一，[参考文章](https://blog.csdn.net/qq_34160248/article/details/127712177?spm=1001.2014.3001.5506)。\n"
      ]
    },
    {
      "cell_type": "code",
      "execution_count": null,
      "metadata": {
        "colab": {
          "background_save": true
        },
        "id": "YYHbMwN8jw9x"
      },
      "outputs": [],
      "source": [
        "#from google.colab import files  #这个没有使用\n",
        "import numpy as np\n",
        "import pandas as pd\n",
        "# from scipy.stats import norm  #这个也没有用到\n",
        "from scipy.stats import skew"
      ]
    },
    {
      "cell_type": "code",
      "execution_count": null,
      "metadata": {
        "colab": {
          "base_uri": "https://localhost:8080/"
        },
        "id": "B1XYmejrjwro",
        "outputId": "a6abf908-b83b-4214-ef68-6b2322120e14"
      },
      "outputs": [
        {
          "name": "stdout",
          "output_type": "stream",
          "text": [
            "data_size: 799\n",
            "skew_hat: 1.76\n",
            "skew_hat variance: 0.17\n"
          ]
        }
      ],
      "source": [
        "# 加载(读取)文件（数据）\n",
        "# pd.read_csv,它有很多可选参数，文件路径是必选的。\n",
        "# 最简单的用法：df=pd.read_csv('文件名'),运行后会把文件的数据赋值给df，df是一个数据帧即DataFrame\n",
        "df = pd.read_csv('https://raw.githubusercontent.com/sajad13901/Statistics_Wasserman/main/nerve.txt',delimiter=None)\n",
        "# 将列名为waiting_time的这一列赋值给data，即是说：data就代表上面txt文件waiting_time这一列的数据\n",
        "data = df.waiting_time\n",
        "# data.size表示数据的大小，即总共有799个数据，即n=799\n",
        "# data.mean()即为平均值，data.std()即为标准差，即mu=平均值，sigma=标准差\n",
        "n,mu,sigma = data.size,data.mean(),data.std()\n",
        "\n",
        "# 定义了一个名为cacl_skew的函数，data是他的输入参数，这里data只是一个名称，不等于上面的data\n",
        "# 这个函数用来计算偏度，就是题目中的偏度计算公式，用求和表示积分\n",
        "def calc_skew(data):\n",
        "  n,mu,sigma = data.size,data.mean(),data.std()\n",
        "  tmp = 0               # 定义一个变量tmp，初始值等于0\n",
        "  for element in data:        # 这一个循环，第一次element就等于data中的第一个数，第二次等于第二个，只到最后一个 \n",
        "    tmp += (element - mu)**3   # 这里tmp每次循环都在变，temp+=1就表示tmp=tmp+1的意思，是一种编程写法。\n",
        "  return tmp/(n*sigma**3 )      # return表示返回，比如 a=caclc_skew(数据)，最后a就等于数据的偏度\n",
        "\n",
        "skew_boot = []    # 创建一个空的列表，列表是python的一种数据类型\n",
        "B = 100\n",
        "for _ in range(B):  # range(B)，表示从0到99，总共100次循环，注意是从0开始编号的\n",
        "  tmp_data = np.random.choice(data,size=n,replace=True)  # 从data中抽取随机数，数量为n个，replace=True表示可以取相同的数\n",
        "  skew_boot.append(calc_skew(tmp_data))   # skew_boot.append表示每次想skew_boot这个列表的末尾添加数据，添加的数是calc_skew(tmp_data)，也就是随机抽取的n个数的偏度\n",
        "                         #最后循环了100次，skew_boot就有100个偏度的值\n",
        "\n",
        "print('data_size:',n)              # print()是打印输出函数，这一行输出n，也就是数据的个数\n",
        "print('skew_hat:',round(calc_skew(data),2))  # 输出数据的偏度，round（）是用来设置结果的小数位数，这里保留2位小数\n",
        "print('skew_hat variance:',round(np.std(skew_boot),2)) # 输出前面计算的100个偏度的标准差，保留2位小数"
      ]
    },
    {
      "cell_type": "code",
      "execution_count": null,
      "metadata": {
        "colab": {
          "base_uri": "https://localhost:8080/"
        },
        "id": "hgg1KZR0iTep",
        "outputId": "cfb7b652-00e9-401e-f297-72b37556df7b"
      },
      "outputs": [
        {
          "name": "stdout",
          "output_type": "stream",
          "text": [
            "0\n",
            "1\n",
            "2\n"
          ]
        }
      ],
      "source": [
        "for _ in range(3):\n",
        "  print(_)\n"
      ]
    }
  ],
  "metadata": {
    "accelerator": "GPU",
    "colab": {
      "collapsed_sections": [],
      "provenance": [],
      "authorship_tag": "ABX9TyP8QSsfQvqoQUmnKdmfz2U+",
      "include_colab_link": true
    },
    "gpuClass": "standard",
    "kernelspec": {
      "display_name": "Python 3",
      "name": "python3"
    },
    "language_info": {
      "name": "python"
    }
  },
  "nbformat": 4,
  "nbformat_minor": 0
}